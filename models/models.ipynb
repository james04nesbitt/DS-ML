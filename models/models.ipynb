{
 "cells": [
  {
   "cell_type": "code",
   "execution_count": 2,
   "metadata": {},
   "outputs": [],
   "source": [
    "import numpy as np\n",
    "import pandas as pd"
   ]
  },
  {
   "cell_type": "markdown",
   "metadata": {},
   "source": [
    "## Perceptron Algorithim"
   ]
  },
  {
   "cell_type": "code",
   "execution_count": 76,
   "metadata": {},
   "outputs": [
    {
     "data": {
      "text/plain": [
       "matrix([[0., 0.]])"
      ]
     },
     "execution_count": 76,
     "metadata": {},
     "output_type": "execute_result"
    }
   ],
   "source": [
    "\n",
    "y = np.array([1,1,-1])\n",
    "b = 0\n",
    "i = 0\n",
    "dataset = pd.read_csv(\"exoplanets.csv\")\n",
    "x = np.hstack(\n",
    "        [\n",
    "            dataset.drop([\"exoplanet\"], axis=1).to_numpy(),\n",
    "        ]\n",
    "    )\n",
    "\n",
    "k,theta = 0, np.matrix(np.zeros(x.shape[1]))\n",
    "y = dataset[\"exoplanet\"].to_numpy().astype(np.int64)\n",
    "theta"
   ]
  },
  {
   "cell_type": "code",
   "execution_count": 83,
   "metadata": {},
   "outputs": [
    {
     "data": {
      "text/plain": [
       "matrix([[-281.2317]])"
      ]
     },
     "execution_count": 83,
     "metadata": {},
     "output_type": "execute_result"
    }
   ],
   "source": [
    "\n",
    "\n",
    "while i < y.size:\n",
    "    if np.any((np.dot(theta[k],x[i]) * y[i] + b)<=0):\n",
    "        \n",
    "        for j in range(y.size):\n",
    "            if np.any(np.dot(theta[k],x[j]) * y[j] + b <=0):\n",
    "                \n",
    "                theta = np.insert(theta, k+1,(theta[k] + (y[j] * x[j])), axis=0)\n",
    "                b += y[j]\n",
    "                k+=1\n",
    "                print(theta[k],b, x[j])\n",
    "        i = -1\n",
    "    i+=1\n",
    "theta[3].dot(x[1]) + 1"
   ]
  },
  {
   "cell_type": "code",
   "execution_count": 3,
   "metadata": {},
   "outputs": [
    {
     "data": {
      "text/plain": [
       "array([-0.5803 , -0.81025])"
      ]
     },
     "execution_count": 3,
     "metadata": {},
     "output_type": "execute_result"
    }
   ],
   "source": [
    "(0.322*np.array([-1.9,0])) -0.497*np.array([0.5,0.75]) + 0.175*np.array([1.6,-2.5])"
   ]
  },
  {
   "cell_type": "markdown",
   "metadata": {},
   "source": [
    "# Regression\n"
   ]
  },
  {
   "cell_type": "code",
   "execution_count": 10,
   "metadata": {},
   "outputs": [
    {
     "data": {
      "text/plain": [
       "array([[1, 0],\n",
       "       [0, 1]])"
      ]
     },
     "execution_count": 10,
     "metadata": {},
     "output_type": "execute_result"
    }
   ],
   "source": [
    "x = np.array([[2,1],[-4,-2],[-2,-1]])\n",
    "y = np.array([3,-3,-1])\n",
    "i = np.array([[1,0],[0,1]])\n",
    "theta = np.zeros(2)\n",
    "theta\n",
    "i"
   ]
  },
  {
   "cell_type": "code",
   "execution_count": 20,
   "metadata": {},
   "outputs": [
    {
     "name": "stdout",
     "output_type": "stream",
     "text": [
      "[[ 0.22580645 -0.38709677]\n",
      " [-0.38709677  0.80645161]]\n"
     ]
    }
   ],
   "source": [
    "print(np.linalg.inv(i + (np.matmul(x.T,x))))\n",
    "\n",
    "\n",
    "# for i in range(3):\n",
    "#     theta = theta + (y[i] - theta.dot(x[i])) * x[i]\n",
    "# theta"
   ]
  },
  {
   "cell_type": "markdown",
   "metadata": {},
   "source": [
    "# Decision Trees"
   ]
  },
  {
   "cell_type": "code",
   "execution_count": 3,
   "metadata": {},
   "outputs": [],
   "source": [
    "temp = np.array([10,20,15,15,15,20,25,25,10])\n",
    "alt = np.array([0,0,1,1,0,0,0,1,0])\n",
    "din = np.array([False,True,True,True,False,True,True,False,False])"
   ]
  },
  {
   "cell_type": "code",
   "execution_count": 22,
   "metadata": {},
   "outputs": [
    {
     "data": {
      "text/plain": [
       "(0.4444444444444444, 10)"
      ]
     },
     "execution_count": 22,
     "metadata": {},
     "output_type": "execute_result"
    }
   ],
   "source": [
    "m = 0\n",
    "stop = 0\n",
    "for j in range(10,25):\n",
    "    n = 0\n",
    "    for i in range(9):\n",
    "        if (temp[i] > 15) == din [i]:\n",
    "            n+=1\n",
    "    if n/9 > m:\n",
    "        m = n/9\n",
    "        stop = j\n",
    "m, stop"
   ]
  },
  {
   "cell_type": "code",
   "execution_count": 20,
   "metadata": {},
   "outputs": [
    {
     "name": "stdout",
     "output_type": "stream",
     "text": [
      "10\n",
      "11\n",
      "12\n",
      "13\n",
      "14\n"
     ]
    }
   ],
   "source": [
    "for j in range(10,25):\n",
    "    n = 0\n",
    "    for i in range(9):\n",
    "        if (temp[i] > j) == din [i]:\n",
    "            n+=1\n",
    "        if n/9 == m:\n",
    "            print(j)"
   ]
  },
  {
   "cell_type": "code",
   "execution_count": 8,
   "metadata": {},
   "outputs": [
    {
     "data": {
      "text/plain": [
       "0.5555555555555556"
      ]
     },
     "execution_count": 8,
     "metadata": {},
     "output_type": "execute_result"
    }
   ],
   "source": [
    "n = 0\n",
    "for i in range(9):\n",
    "    if alt[i] == din[i]:\n",
    "        n+=1\n",
    "n/9"
   ]
  }
 ],
 "metadata": {
  "kernelspec": {
   "display_name": "env",
   "language": "python",
   "name": "python3"
  },
  "language_info": {
   "codemirror_mode": {
    "name": "ipython",
    "version": 3
   },
   "file_extension": ".py",
   "mimetype": "text/x-python",
   "name": "python",
   "nbconvert_exporter": "python",
   "pygments_lexer": "ipython3",
   "version": "3.11.3"
  }
 },
 "nbformat": 4,
 "nbformat_minor": 2
}
