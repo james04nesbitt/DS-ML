{
 "cells": [
  {
   "cell_type": "code",
   "execution_count": 2,
   "metadata": {},
   "outputs": [],
   "source": [
    "import numpy as np\n",
    "from sklearn.datasets import load_digits\n",
    "from sklearn.model_selection import train_test_split\n",
    "from sklearn.preprocessing import StandardScaler, OneHotEncoder"
   ]
  },
  {
   "cell_type": "code",
   "execution_count": 8,
   "metadata": {},
   "outputs": [],
   "source": [
    "# Load the digits dataset\n",
    "digits = load_digits()\n",
    "X = digits.data\n",
    "y = digits.target\n",
    "\n",
    "# Normalize the input data\n",
    "scaler = StandardScaler()\n",
    "X_scaled = scaler.fit_transform(X)\n",
    "\n",
    "# One-hot encode the labels\n",
    "encoder = OneHotEncoder(sparse_output=False)\n",
    "y_onehot = encoder.fit_transform(y.reshape(-1, 1))\n",
    "\n",
    "# Split the data into training and test sets\n",
    "X_train, X_test, y_train, y_test = train_test_split(X_scaled, y_onehot, test_size=0.2, random_state=42)"
   ]
  },
  {
   "cell_type": "code",
   "execution_count": 16,
   "metadata": {},
   "outputs": [],
   "source": [
    "input_size = X_train.shape[1]\n",
    "h1_size = 50\n",
    "h2_size = 35\n",
    "h3_size = 20\n",
    "output_size = y_onehot.shape[1]\n",
    "\n",
    "#weights \n",
    "w1 = np.random.normal(0,1,[input_size,h1_size])\n",
    "b1 = np.zeros((1,h1_size))\n",
    "\n",
    "w2 = np.random.normal(0,1,[h1_size,h2_size])\n",
    "b2 = np.zeros((1,h2_size))\n",
    "              \n",
    "w3 = np.random.normal(0,1,[h2_size,h3_size])\n",
    "b3 = np.zeros((1,h3_size))\n",
    "\n",
    "w4 = np.random.normal(0,1,[h3_size,output_size])\n",
    "b4 = np.zeros((1,output_size))"
   ]
  },
  {
   "cell_type": "code",
   "execution_count": 9,
   "metadata": {},
   "outputs": [],
   "source": [
    "def sigmoid(x):\n",
    "    return 1 / (1 + np.exp(-x))\n",
    "\n",
    "def sigmoid_derivative(x):\n",
    "    return x * (1 - x)"
   ]
  },
  {
   "cell_type": "code",
   "execution_count": 19,
   "metadata": {},
   "outputs": [
    {
     "data": {
      "text/plain": [
       "array([[9.99820597e-01, 9.99776363e-01, 4.63957441e-04, ...,\n",
       "        2.88585325e-06, 9.30429210e-01, 9.98870343e-01],\n",
       "       [3.03683198e-01, 9.99983544e-01, 1.63987157e-04, ...,\n",
       "        6.61631175e-01, 9.98806751e-01, 3.25183621e-02],\n",
       "       [7.47643228e-02, 9.99865824e-01, 3.29716400e-04, ...,\n",
       "        5.45628972e-03, 4.44037257e-02, 7.04772553e-04],\n",
       "       ...,\n",
       "       [1.72618906e-03, 2.35961799e-02, 9.99664093e-01, ...,\n",
       "        9.96012112e-01, 1.71971233e-01, 1.81211929e-05],\n",
       "       [8.04731611e-03, 2.85968299e-03, 9.99993124e-01, ...,\n",
       "        9.99977295e-01, 9.94613610e-01, 4.72906363e-06],\n",
       "       [9.97958928e-01, 1.02962234e-02, 6.13457208e-02, ...,\n",
       "        1.52189052e-10, 3.26842991e-01, 4.26703209e-01]])"
      ]
     },
     "execution_count": 19,
     "metadata": {},
     "output_type": "execute_result"
    }
   ],
   "source": [
    "a1 = sigmoid(X_train.dot(w1) + b1)\n",
    "a1.shape"
   ]
  },
  {
   "cell_type": "code",
   "execution_count": 17,
   "metadata": {},
   "outputs": [
    {
     "ename": "SyntaxError",
     "evalue": "incomplete input (960489621.py, line 4)",
     "output_type": "error",
     "traceback": [
      "\u001b[0;36m  Cell \u001b[0;32mIn[17], line 4\u001b[0;36m\u001b[0m\n\u001b[0;31m    for _ in epoch:\u001b[0m\n\u001b[0m                   ^\u001b[0m\n\u001b[0;31mSyntaxError\u001b[0m\u001b[0;31m:\u001b[0m incomplete input\n"
     ]
    }
   ],
   "source": [
    "learning_rate = 0.01\n",
    "epoch = 2000\n",
    "\n",
    "for _ in epoch:"
   ]
  },
  {
   "cell_type": "code",
   "execution_count": null,
   "metadata": {},
   "outputs": [],
   "source": []
  }
 ],
 "metadata": {
  "kernelspec": {
   "display_name": "Python 3",
   "language": "python",
   "name": "python3"
  },
  "language_info": {
   "codemirror_mode": {
    "name": "ipython",
    "version": 3
   },
   "file_extension": ".py",
   "mimetype": "text/x-python",
   "name": "python",
   "nbconvert_exporter": "python",
   "pygments_lexer": "ipython3",
   "version": "3.11.7"
  }
 },
 "nbformat": 4,
 "nbformat_minor": 2
}
