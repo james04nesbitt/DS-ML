{
  "cells": [
    {
      "cell_type": "code",
      "execution_count": null,
      "metadata": {
        "id": "T7pZX2CSmi14"
      },
      "outputs": [],
      "source": [
        "import torch as T\n",
        "import torch.nn as nn\n",
        "from torchtext.legacy import data, datasets\n",
        "import torch.optim as optim\n",
        "import time"
      ]
    },
    {
      "cell_type": "code",
      "execution_count": null,
      "metadata": {
        "id": "L7cA8ytPLFDa"
      },
      "outputs": [],
      "source": [
        "class Embedding(nn.Module):\n",
        "  def __init__(self, vocab_size, max_length, embed_dim, dropout=0.1):\n",
        "    super(Embedding, self).__init__()\n",
        "    self.word_embed = nn.Embedding(vocab_size, embed_dim)\n",
        "    self.pos_embed = nn.Embedding(max_length, embed_dim)\n",
        "    self.dropout = nn.Dropout(dropout)\n",
        "\n",
        "  def forward(self, x):\n",
        "    batch_size, seq_length = x.shape\n",
        "    device = T.device('cuda' if T.cuda.is_available() else 'cpu')\n",
        "    positions = T.arange(0, seq_length).expand(\n",
        "        batch_size, seq_length).to(device)\n",
        "    embedding = self.word_embed(x) + self.pos_embed(positions)\n",
        "    return self.dropout(embedding)"
      ]
    },
    {
      "cell_type": "code",
      "execution_count": null,
      "metadata": {
        "id": "9dkLjvIeqdQo"
      },
      "outputs": [],
      "source": [
        "class MHSelfAttention(nn.Module):\n",
        "  def __init__(self, embed_dim, num_heads):\n",
        "    super(MHSelfAttention, self).__init__()\n",
        "    self.embed_dim = embed_dim\n",
        "    self.num_heads = num_heads\n",
        "    self.head_dim = embed_dim // num_heads\n",
        "\n",
        "  \n",
        "\n",
        "    self.w_queries = nn.Linear(self.embed_dim, self.embed_dim, bias=False)\n",
        "    self.w_keys = nn.Linear(self.embed_dim, self.embed_dim, bias=False)\n",
        "    self.w_values = nn.Linear(self.embed_dim, self.embed_dim, bias=False)\n",
        "    \n",
        "    self.fc_out = nn.Linear(self.head_dim*self.num_heads , self.embed_dim)\n",
        "\n",
        "  def forward(self, x):\n",
        "\n",
        "    batch_size = x.shape[0]\n",
        "    sentence_len = x.shape[1]\n",
        "\n",
        "    queries = self.w_queries(x).reshape(\n",
        "        batch_size, sentence_len, self.num_heads, self.head_dim).permute(\n",
        "            0, 2, 1, 3)\n",
        "    \n",
        "    keys = self.w_keys(x).reshape(\n",
        "        batch_size, sentence_len, self.num_heads, self.head_dim).permute(\n",
        "            0, 2, 3, 1)\n",
        "    \n",
        "    \n",
        "    values = self.w_values(x).reshape(\n",
        "        batch_size, sentence_len, self.num_heads, self.head_dim).permute(\n",
        "            0, 2, 1, 3)\n",
        "    \n",
        "    attention_scores = T.einsum('bijk,bikl->bijl', queries, keys)\n",
        "    attention_dist = T.softmax(attention_scores /\n",
        "                               (self.embed_dim ** (1/2)), dim=-1)\n",
        "    attention_out = T.einsum('bijk,bikl->bijl', attention_dist, values)\n",
        "    concatenated_out = attention_out.permute(0, 2, 1, 3).reshape(\n",
        "        batch_size, sentence_len, self.embed_dim)\n",
        "    \n",
        "    return concatenated_out"
      ]
    },
    {
      "cell_type": "code",
      "execution_count": null,
      "metadata": {
        "id": "NEIb3HI64vFq"
      },
      "outputs": [],
      "source": [
        "class TransformerEncoder(nn.Module):\n",
        "  def __init__(self, embed_dim, num_heads, forward_expansion, dropout=0.1):\n",
        "    super(TransformerEncoder, self).__init__()\n",
        "\n",
        "    self.attention = MHSelfAttention(embed_dim, num_heads)\n",
        "    self.norm1 = nn.LayerNorm(embed_dim)\n",
        "    self.norm2 = nn.LayerNorm(embed_dim)\n",
        "\n",
        "    self.feed_forward = nn.Sequential(\n",
        "        nn.Linear(embed_dim, forward_expansion*embed_dim),\n",
        "        nn.ReLU(),\n",
        "        nn.Linear(forward_expansion*embed_dim, embed_dim)\n",
        "    )\n",
        "    \n",
        "    self.dropout = nn.Dropout(dropout)\n",
        "\n",
        "  def forward(self, x):\n",
        "    attention_out = self.dropout(self.attention(x))\n",
        "    x = self.norm1(x + attention_out)  \n",
        "    forward_out = self.dropout(self.feed_forward(x))\n",
        "    out = self.norm2(x + forward_out)\n",
        "\n",
        "    return out"
      ]
    },
    {
      "cell_type": "code",
      "execution_count": null,
      "metadata": {
        "id": "x9qLIrNhSsbk"
      },
      "outputs": [],
      "source": [
        "class Classifier(nn.Module):\n",
        "  def __init__(self, vocab_size, max_length, embed_dim,\n",
        "               num_heads, forward_expansion):\n",
        "      super(Classifier, self).__init__()\n",
        "\n",
        "      self.embedder = Embedding(vocab_size, max_length, embed_dim)\n",
        "      self.encoder = TransformerEncoder(embed_dim, num_heads, forward_expansion)\n",
        "      self.fc = nn.Linear(embed_dim, 1)\n",
        "\n",
        "  def forward(self, x):\n",
        "    embedding = self.embedder(x)\n",
        "    encoding = self.encoder(embedding)\n",
        "    compact_encoding = encoding.max(dim=1)[0]\n",
        "    out = self.fc(compact_encoding)\n",
        "    return out"
      ]
    },
    {
      "cell_type": "code",
      "execution_count": null,
      "metadata": {
        "id": "uRdBH6BmIKrd"
      },
      "outputs": [],
      "source": [
        "TEXT = data.Field(\n",
        "    tokenize = 'spacy', tokenizer_language = 'en_core_web_sm',batch_first=True)\n",
        "LABEL = data.LabelField(dtype = T.float)"
      ]
    },
    {
      "cell_type": "code",
      "execution_count": null,
      "metadata": {
        "id": "sxBDZRlZMTLT"
      },
      "outputs": [],
      "source": [
        "train_data, test_data = datasets.IMDB.splits(TEXT, LABEL)"
      ]
    },
    {
      "cell_type": "code",
      "execution_count": null,
      "metadata": {
        "id": "2WAxuSGRMhPh"
      },
      "outputs": [],
      "source": [
        "train_data, valid_data = train_data.split()"
      ]
    },
    {
      "cell_type": "code",
      "execution_count": null,
      "metadata": {
        "id": "rPKDLy_NNaCm"
      },
      "outputs": [],
      "source": [
        "MAX_VOCAB_SIZE = 25000\n",
        "\n",
        "TEXT.build_vocab(train_data, max_size = MAX_VOCAB_SIZE)\n",
        "LABEL.build_vocab(train_data)"
      ]
    },
    {
      "cell_type": "code",
      "execution_count": null,
      "metadata": {
        "id": "iQTSI_VANdHq"
      },
      "outputs": [],
      "source": [
        "BATCH_SIZE = 4\n",
        "device = T.device('cuda' if T.cuda.is_available() else 'cpu')\n",
        "\n",
        "train_iterator, valid_iterator, test_iterator = data.BucketIterator.splits(\n",
        "    (train_data, valid_data, test_data), \n",
        "    batch_size = BATCH_SIZE,\n",
        "    device = device)"
      ]
    },
    {
      "cell_type": "markdown",
      "metadata": {
        "id": "w08nIXt-_OpH"
      },
      "source": [
        "### Training"
      ]
    },
    {
      "cell_type": "code",
      "execution_count": null,
      "metadata": {
        "id": "nmML4fPjSIZk"
      },
      "outputs": [],
      "source": [
        "optimizer = optim.SGD(classifier.parameters(), lr=1e-3)"
      ]
    },
    {
      "cell_type": "code",
      "execution_count": null,
      "metadata": {
        "id": "M8KtZobUYJHA"
      },
      "outputs": [],
      "source": [
        "criterion = nn.BCEWithLogitsLoss()\n",
        "device = T.device('cuda' if T.cuda.is_available() else 'cpu')\n",
        "criterion.to(device);"
      ]
    },
    {
      "cell_type": "code",
      "execution_count": null,
      "metadata": {
        "id": "Jjs2XuaDbs8k"
      },
      "outputs": [],
      "source": [
        "def binary_accuracy(preds, y):\n",
        "    rounded_preds = T.round(T.sigmoid(preds))\n",
        "    correct = (rounded_preds == y).float()\n",
        "    acc = correct.sum() / len(correct)\n",
        "    return acc"
      ]
    },
    {
      "cell_type": "code",
      "execution_count": null,
      "metadata": {
        "id": "uGvO_3PbAq7q"
      },
      "outputs": [],
      "source": [
        "def epoch_time(start_time, end_time):\n",
        "    elapsed_time = end_time - start_time\n",
        "    elapsed_mins = int(elapsed_time / 60)\n",
        "    elapsed_secs = int(elapsed_time - (elapsed_mins * 60))\n",
        "    return elapsed_mins, elapsed_secs"
      ]
    },
    {
      "cell_type": "code",
      "execution_count": null,
      "metadata": {
        "id": "T_0AQJgEYMjL"
      },
      "outputs": [],
      "source": [
        "def train(model, iterator, optimizer, criterion):\n",
        "    \n",
        "    epoch_loss = 0\n",
        "    epoch_acc = 0\n",
        "    \n",
        "    model.train()\n",
        "    \n",
        "    for batch in iterator:\n",
        "        \n",
        "        optimizer.zero_grad()\n",
        "\n",
        "        input = batch.text\n",
        "        if input.shape[1] > MAX_LENGTH:\n",
        "          input = input[:, :MAX_LENGTH]\n",
        "                \n",
        "        predictions = model(input).squeeze(1)\n",
        "        \n",
        "        loss = criterion(predictions, batch.label)\n",
        "        \n",
        "        acc = binary_accuracy(predictions, batch.label)\n",
        "        \n",
        "        loss.backward()\n",
        "        \n",
        "        optimizer.step()\n",
        "        \n",
        "        epoch_loss += loss.item()\n",
        "        epoch_acc += acc.item()\n",
        "        \n",
        "    return epoch_loss / len(iterator), epoch_acc / len(iterator)"
      ]
    },
    {
      "cell_type": "code",
      "execution_count": null,
      "metadata": {
        "id": "oRV4SusuuGek"
      },
      "outputs": [],
      "source": [
        "def evaluate(model, iterator, criterion):\n",
        "    epoch_loss = 0\n",
        "    epoch_acc = 0\n",
        "    model.eval()\n",
        "\n",
        "    with T.no_grad():\n",
        "        for batch in iterator:\n",
        "\n",
        "            input = batch.text\n",
        "            if input.shape[1] > MAX_LENGTH:\n",
        "              input = input[:, :MAX_LENGTH]\n",
        "                    \n",
        "            predictions = model(input).squeeze(1)\n",
        "            loss = criterion(predictions, batch.label)\n",
        "            acc = binary_accuracy(predictions, batch.label)\n",
        "            epoch_loss += loss.item()\n",
        "            epoch_acc += acc.item()\n",
        "        \n",
        "    return epoch_loss / len(iterator), epoch_acc / len(iterator)"
      ]
    },
    {
      "cell_type": "code",
      "execution_count": null,
      "metadata": {
        "colab": {
          "base_uri": "https://localhost:8080/"
        },
        "id": "eo4Kw1rpb7un",
        "outputId": "98416562-2a45-41ea-e4a9-9444942131f3"
      },
      "outputs": [],
      "source": [
        "N_EPOCHS = 10\n",
        "best_valid_loss = float('inf')\n",
        "\n",
        "for epoch in range(N_EPOCHS):\n",
        "\n",
        "    start_time = time.time()\n",
        "\n",
        "    train_loss, train_acc = train(\n",
        "        classifier, train_iterator,optimizer, criterion)\n",
        "    valid_loss, valid_acc = evaluate(classifier, valid_iterator, criterion)\n",
        "\n",
        "    end_time = time.time()\n",
        "    epoch_mins, epoch_secs = epoch_time(start_time, end_time)\n",
        "\n",
        "    if valid_loss < best_valid_loss:\n",
        "        best_valid_loss = valid_loss\n",
        "        T.save(classifier.state_dict(), 'sent-classifier.pt')\n",
        "\n",
        "    print(f'Epoch: {epoch+1:02} | Epoch Time: {epoch_mins}m {epoch_secs}s')\n",
        "    print(f'\\tTrain Loss: {train_loss:.3f} | Train Acc: {train_acc*100:.2f}%')\n",
        "    print(f'\\t Val. Loss: {valid_loss:.3f} |  Val. Acc: {valid_acc*100:.2f}%')"
      ]
    },
    {
      "cell_type": "code",
      "execution_count": null,
      "metadata": {
        "colab": {
          "base_uri": "https://localhost:8080/"
        },
        "id": "QYM_vp1dA490",
        "outputId": "f54bc069-faa8-4a14-c74b-5b9385dece69"
      },
      "outputs": [],
      "source": [
        "classifier.load_state_dict(T.load('sent-classifier.pt'))"
      ]
    },
    {
      "cell_type": "code",
      "execution_count": null,
      "metadata": {
        "colab": {
          "base_uri": "https://localhost:8080/"
        },
        "id": "N1a03U6Cuc3e",
        "outputId": "e920559a-6652-467a-b9b9-4fd39d40e098"
      },
      "outputs": [],
      "source": [
        "test_loss, test_acc = evaluate(classifier, test_iterator, criterion)\n",
        "print(f'Test Loss: {test_loss:.3f} |  Test Acc: {test_acc*100:.2f}%')"
      ]
    }
  ],
  "metadata": {
    "accelerator": "GPU",
    "colab": {
      "authorship_tag": "ABX9TyP3/BVydviVQwbWdoh4gTYp",
      "collapsed_sections": [],
      "include_colab_link": true,
      "name": "transformer_from_scratch.ipynb",
      "provenance": []
    },
    "kernelspec": {
      "display_name": "Python 3",
      "name": "python3"
    },
    "language_info": {
      "name": "python",
      "version": "3.12.0"
    }
  },
  "nbformat": 4,
  "nbformat_minor": 0
}
